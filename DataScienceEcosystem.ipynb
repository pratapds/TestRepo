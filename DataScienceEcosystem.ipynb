{
 "cells": [
  {
   "cell_type": "markdown",
   "id": "bf062ebd-4e6d-427a-9d23-ba6fcd79726e",
   "metadata": {},
   "source": [
    "# Data Science Tools and Ecosystem"
   ]
  },
  {
   "cell_type": "markdown",
   "id": "965ec1ac-6e3b-4c9c-bc82-487dfd006948",
   "metadata": {},
   "source": [
    "# In this notebook, Data Science Tools and Ecosystem are summarized.\n"
   ]
  },
  {
   "cell_type": "markdown",
   "id": "70827783-d3f1-42ad-ba34-7ac70a8b6a89",
   "metadata": {},
   "source": [
    "**Objectives:**\n",
    "* Python\n",
    "* R\n",
    "* SQL"
   ]
  },
  {
   "cell_type": "markdown",
   "id": "2664ab8c-d4f5-4245-a390-b8144050e235",
   "metadata": {},
   "source": [
    "# Some of the popular languages that Data Scientists use are:\n",
    "1. Python\n",
    "2. R\n",
    "3. Scala\n",
    "4. SQL\n",
    "   \n"
   ]
  },
  {
   "cell_type": "markdown",
   "id": "89bf35ce-7270-4687-826f-1f793f0a240e",
   "metadata": {},
   "source": [
    "# Some of the commonly used libraries used by Data Scientists include:\n",
    "1. Pandas\n",
    "2. Numpy\n",
    "3. Scipy\n",
    "4. Matplotlib\n",
    "\n"
   ]
  },
  {
   "cell_type": "markdown",
   "id": "8fc637ab-0cce-4163-8e00-7c331b309019",
   "metadata": {},
   "source": [
    "| Data Science Tools |\n",
    "|--------------------|\n",
    "| Jupyter Notebook   |\n",
    "| RStudio            |\n",
    "| Apache Zeppelin    |"
   ]
  },
  {
   "cell_type": "markdown",
   "id": "b7230389-a097-4b8d-b6f5-cc8f4f1d2489",
   "metadata": {},
   "source": [
    "### Below are a few examples of evaluating arithmetic expressions in Python"
   ]
  },
  {
   "cell_type": "code",
   "execution_count": 6,
   "id": "cfaf9a50-98fe-46c2-8550-f55e4658b0ce",
   "metadata": {},
   "outputs": [
    {
     "data": {
      "text/plain": [
       "17"
      ]
     },
     "execution_count": 6,
     "metadata": {},
     "output_type": "execute_result"
    }
   ],
   "source": [
    "# This a simple arithmetic expression to mutiply then add integers\n",
    "\n",
    "(3 * 4) + 5\n",
    "\n"
   ]
  },
  {
   "cell_type": "code",
   "execution_count": 7,
   "id": "6f7452d3-4d5f-4679-99e2-2155cad959a6",
   "metadata": {},
   "outputs": [
    {
     "data": {
      "text/plain": [
       "3.3333333333333335"
      ]
     },
     "execution_count": 7,
     "metadata": {},
     "output_type": "execute_result"
    }
   ],
   "source": [
    "# This will convert 200 minutes to hours by dividing by 60\n",
    "\n",
    "200 / 60"
   ]
  },
  {
   "cell_type": "markdown",
   "id": "d72676f3-2254-43cc-9370-788734a18896",
   "metadata": {},
   "source": [
    "## Author\n",
    "Pratap N"
   ]
  },
  {
   "cell_type": "code",
   "execution_count": null,
   "id": "70ff4a21-e058-4bf7-8538-c4f8953701af",
   "metadata": {},
   "outputs": [],
   "source": []
  }
 ],
 "metadata": {
  "kernelspec": {
   "display_name": "Python 3 (ipykernel)",
   "language": "python",
   "name": "python3"
  },
  "language_info": {
   "codemirror_mode": {
    "name": "ipython",
    "version": 3
   },
   "file_extension": ".py",
   "mimetype": "text/x-python",
   "name": "python",
   "nbconvert_exporter": "python",
   "pygments_lexer": "ipython3",
   "version": "3.13.5"
  }
 },
 "nbformat": 4,
 "nbformat_minor": 5
}
